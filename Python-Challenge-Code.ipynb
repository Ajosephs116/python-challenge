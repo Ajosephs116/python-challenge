{
 "cells": [
  {
   "cell_type": "code",
   "execution_count": null,
   "metadata": {},
   "outputs": [],
   "source": []
  },
  {
   "cell_type": "code",
   "execution_count": 20,
   "metadata": {},
   "outputs": [
    {
     "name": "stdout",
     "output_type": "stream",
     "text": [
      "-------------------------------\n",
      "Financial Analysis\n",
      "-------------------------------\n",
      "Total Months: 86\n",
      "Total Revenue: ($38382578)\n",
      "Average Revenue Change: ($-2315)\n",
      "Greatest Increase in Revenue: Feb-2012 ($1926159)\n",
      "Greatest Decrease in Revenue: Sep-2013 ($-2196167)\n",
      "-------------------------------\n",
      "\n"
     ]
    }
   ],
   "source": [
    "import os\n",
    "import csv\n",
    "\n",
    "csvpath1= (\"Resources/budget_data.csv\")\n",
    "\n",
    "\n",
    "line = 0\n",
    "total_revenue = 0\n",
    "total_change = 0 \n",
    "last_num = 0\n",
    "months = []\n",
    "csv_dict =  {}\n",
    "change_dict = {}\n",
    "\n",
    "\n",
    "\n",
    "with open(csvpath1, newline=\"\") as csvfile1:\n",
    "    csvreader1 = csv.reader(csvfile1, delimiter=\",\")\n",
    "    #SKIP HEADER\n",
    "    csvreader1.__next__()\n",
    "\n",
    "    for row in csvreader1:\n",
    "        \n",
    "        #CALCULATING TOTAL REVENUE\n",
    "        total_revenue = total_revenue + int(row[1])\n",
    "        \n",
    "        #MAKE LIST OF MONTHS TO COUNT\n",
    "        if row[0] not in months:\n",
    "            months.append(row[0])\n",
    "            #CALCULATE MONTHLY CHANGE\n",
    "            change_dict[row[0]] = int(row[1]) - last_num\n",
    "            last_num =  int(row[1])\n",
    "\n",
    "  \n",
    "for key, value in change_dict.items():\n",
    "    #SKIP FIRST MONTH\n",
    "    if key == months[0]:\n",
    "        num = 0\n",
    "    else:\n",
    "        #CALCULATE TOTAL CHANGE FOR AVERAGE\n",
    "        total_change = total_change + value\n",
    "        \n",
    "\n",
    "#FIND MONTHS OF MIN AND MAX CHANGES\n",
    "min_price = min(zip(change_dict.values(), change_dict.keys()))\n",
    "max_price = max(zip(change_dict.values(), change_dict.keys()))\n",
    "\n",
    "min_change = (min_price[1] + \" ($\" + str(int(min_price[0]))+\")\")\n",
    "max_change = (max_price[1] + \" ($\" + str(int(max_price[0]))+\")\")\n",
    "\n",
    "\n",
    "total_revenue = \"($\" + str(int(total_revenue))+\")\"\n",
    "num_months = len(months)\n",
    "avg_change = \"($\" + str(int(total_change/(num_months - 1)))+\")\"\n",
    "\n",
    "line = \"-------------------------------\"\n",
    "\n",
    "results = (\n",
    "    line +'\\n' + \"Financial Analysis\" +'\\n' + line +'\\n'\n",
    "    \"Total Months: \"+ str(num_months) +'\\n'\n",
    "    \"Total Revenue: \"+ str(total_revenue) +'\\n'\n",
    "    \"Average Revenue Change: \"+ str(avg_change) +'\\n'\n",
    "    \"Greatest Increase in Revenue: \"+ str(max_change) +'\\n'\n",
    "    \"Greatest Decrease in Revenue: \"+ str(min_change) +'\\n' + line +'\\n'\n",
    "    )\n",
    "\n",
    "print(results)\n",
    "\n",
    "f = open(\"Financial_Analysis.txt\", \"w\")\n",
    "\n",
    "f.write(results)\n",
    "\n",
    "f.close()"
   ]
  },
  {
   "cell_type": "code",
   "execution_count": null,
   "metadata": {},
   "outputs": [],
   "source": []
  },
  {
   "cell_type": "code",
   "execution_count": null,
   "metadata": {},
   "outputs": [],
   "source": []
  },
  {
   "cell_type": "code",
   "execution_count": 51,
   "metadata": {},
   "outputs": [],
   "source": [
    "#Calculate months included in dataset\n",
    "Months = "
   ]
  },
  {
   "cell_type": "code",
   "execution_count": 52,
   "metadata": {},
   "outputs": [],
   "source": [
    "#Total profit / loss"
   ]
  },
  {
   "cell_type": "code",
   "execution_count": 53,
   "metadata": {},
   "outputs": [],
   "source": [
    "#Average of changes in profit/loss (delta month-previous month)/months"
   ]
  },
  {
   "cell_type": "code",
   "execution_count": 54,
   "metadata": {},
   "outputs": [],
   "source": [
    "#Month with greatest increase and greatest decrease of profit "
   ]
  },
  {
   "cell_type": "code",
   "execution_count": null,
   "metadata": {},
   "outputs": [],
   "source": [
    "#Text \"Financial Analysis_____ Total Months / Total $ / Average Changes / Greatest increase in profits / Greatest Decrease \"\n",
    "#export to terminal and a txt file"
   ]
  }
 ],
 "metadata": {
  "kernelspec": {
   "display_name": "Python 3",
   "language": "python",
   "name": "python3"
  },
  "language_info": {
   "codemirror_mode": {
    "name": "ipython",
    "version": 3
   },
   "file_extension": ".py",
   "mimetype": "text/x-python",
   "name": "python",
   "nbconvert_exporter": "python",
   "pygments_lexer": "ipython3",
   "version": "3.7.1"
  }
 },
 "nbformat": 4,
 "nbformat_minor": 2
}
