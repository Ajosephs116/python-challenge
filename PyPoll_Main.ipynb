{
 "cells": [
  {
   "cell_type": "code",
   "execution_count": 45,
   "metadata": {},
   "outputs": [
    {
     "data": {
      "text/plain": [
       "'C:\\\\Users\\\\AJ\\\\Documents\\\\GTATL201902DATA3\\\\03-Python\\\\Homework'"
      ]
     },
     "execution_count": 45,
     "metadata": {},
     "output_type": "execute_result"
    }
   ],
   "source": [
    "pwd"
   ]
  },
  {
   "cell_type": "code",
   "execution_count": 54,
   "metadata": {},
   "outputs": [
    {
     "name": "stdout",
     "output_type": "stream",
     "text": [
      "Election Results\n",
      "-------------------------------\n",
      "Total Votes: 3521002\n",
      "-------------------------------\n",
      "\n",
      "Khan :  63.0% (2218231)\n",
      "Correy :  20.0% (704200)\n",
      "Li :  14.0% (492940)\n",
      "O'Tooley :  3.0% (105630)\n",
      "-------------------------------\n",
      "Winner: Khan\n",
      "-------------------------------\n",
      "\n"
     ]
    }
   ],
   "source": [
    "\n",
    "                                                                     # Import os and csv\n",
    "import os\n",
    "import csv\n",
    "\n",
    "electiondata = (\"Resources/election_data.csv\")                      # Set Path\n",
    "                                                                    # Set variables\n",
    "votes = 0\n",
    "candidates = []\n",
    "votecount_dic = {}\n",
    "votepercent_dic = {}\n",
    "\n",
    "with open(electiondata, newline=\"\") as csvfile:                     # Read CSV\n",
    "    csvreader = csv.reader(csvfile, delimiter=\",\")\n",
    " \n",
    "    for row in csvreader:\n",
    "        \n",
    "        votes = votes + 1                                           # 1.a Count number of votes, starting from 0\n",
    "\n",
    "        if row[2] not in candidates and row[2] not in \"Candidate\":  # 1.b If name is not already in list, append candidate names to list and count     \n",
    "            candidates.append(row[2])                               \n",
    "            votecount_dic[row[2]] = 1                                    \n",
    "        elif row[2] in candidates and row[2] not in \"Candidate\":    # 1.c Else If already in list, count\n",
    "            votecount_dic[row[2]] = votecount_dic[row[2]] + 1\n",
    "    \n",
    "    \n",
    "     \n",
    "    for key, value in votecount_dic.items():                        # 2 Rounded percentage of votes per candidate and votes totalled\n",
    "        votepercent_dic[key] = str(round(((value/votes)*100),3)) + \"% (\"+str(value) + \")\"   \n",
    "    \n",
    "    #FIND WINNER\n",
    "    mostvotes = max(vote_count.keys(), key=(lambda k: vote_count[k]))    # 3. Find maximum number of votes\n",
    "    \n",
    "    \n",
    "    line = \"-------------------------------\"                       # 4. Write variables to format results\n",
    "   \n",
    "    electionresults = (\n",
    "        \"Election Results\" + '\\n' + line + '\\n' + \n",
    "        \"Total Votes: \"+ str(votes)+ '\\n' + line + '\\n')\n",
    "    winner = (\n",
    "        line + '\\n'\n",
    "        \"Winner: \"+ str(mostvotes)+ '\\n' + line + '\\n')\n",
    "   \n",
    "   \n",
    "    print(electionresults)                                         # 5. Print results\n",
    "    for key, val in votepercent_dic.items():\n",
    "        print(key, \": \", val)\n",
    "    print(winner)\n",
    "    \n",
    "    f = open(\"Election_results.txt\", \"w\")                          # 6. Create and write new text file\n",
    "\n",
    "    f.write(electionresults)\n",
    "    for key, val in votepercent_dic.items():\n",
    "         f.write((key + \": \" + val)+ '\\n')\n",
    "    f.write(winner)\n",
    "    \n",
    "    f.close()"
   ]
  },
  {
   "cell_type": "code",
   "execution_count": null,
   "metadata": {},
   "outputs": [],
   "source": []
  },
  {
   "cell_type": "code",
   "execution_count": null,
   "metadata": {},
   "outputs": [],
   "source": []
  },
  {
   "cell_type": "code",
   "execution_count": null,
   "metadata": {},
   "outputs": [],
   "source": []
  }
 ],
 "metadata": {
  "kernelspec": {
   "display_name": "Python 3",
   "language": "python",
   "name": "python3"
  },
  "language_info": {
   "codemirror_mode": {
    "name": "ipython",
    "version": 3
   },
   "file_extension": ".py",
   "mimetype": "text/x-python",
   "name": "python",
   "nbconvert_exporter": "python",
   "pygments_lexer": "ipython3",
   "version": "3.7.1"
  }
 },
 "nbformat": 4,
 "nbformat_minor": 2
}
