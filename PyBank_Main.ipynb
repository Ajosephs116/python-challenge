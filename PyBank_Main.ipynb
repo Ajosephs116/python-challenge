{
 "cells": [
  {
   "cell_type": "code",
   "execution_count": 270,
   "metadata": {},
   "outputs": [
    {
     "data": {
      "text/plain": [
       "'C:\\\\Users\\\\AJ\\\\Documents\\\\GTATL201902DATA3\\\\03-Python\\\\Homework'"
      ]
     },
     "execution_count": 270,
     "metadata": {},
     "output_type": "execute_result"
    }
   ],
   "source": [
    "pwd\n"
   ]
  },
  {
   "cell_type": "code",
   "execution_count": 272,
   "metadata": {},
   "outputs": [
    {
     "data": {
      "text/plain": [
       "'-------------------------------\\nFinancial Analysis\\n-------------------------------\\nTotal Months: 86\\nTotal: ($38382578)\\nAverage Change: ($-2315)\\nGreatest Increase in Profits: Feb-2012 $1926159\\nGreatest Decrease in Profits: Sep-2013 $-2196167\\n-------------------------------\\n'"
      ]
     },
     "execution_count": 272,
     "metadata": {},
     "output_type": "execute_result"
    }
   ],
   "source": [
    "                                                     #import os and csv\n",
    "import os\n",
    "import csv\n",
    "                                                    # Set path for csv file\n",
    "budgetdata = (\"Resources/budget_data.csv\")\n",
    "\n",
    "\n",
    "                                                        # 1.Set variables \n",
    "\n",
    "months = []\n",
    "profit = 0\n",
    "lastnumber = 0\n",
    "line = 0\n",
    "changetotal = 0 \n",
    "last_num = 0\n",
    "csvdictionary =  {}\n",
    "changedictionary = {}\n",
    "\n",
    "                                                        # 2.a Read the CSV file\n",
    "\n",
    "with open(budgetdata, newline=\"\") as csvfile:\n",
    "    budgetreader = csv.reader(csvfile, delimiter=\",\")\n",
    "    budgetreader.__next__()                                 #2.b Skip headers \n",
    "\n",
    "    \n",
    "    for row in budgetreader:\n",
    "        profit = profit + int(row[1])                   # 3.a Starting at 0, add Profit/Losses to profit variable\n",
    "\n",
    "        if row[0] not in months:                        # 3.b If value of months column isnt in months list, append to list.\n",
    "            months.append(row[0])\n",
    "\n",
    "            changedictionary[row[0]] = int(row[1]) - last_num     # 3.c Find monthly change and add it to change dictionary.\n",
    "            last_num =  int(row[1])\n",
    "            \n",
    "for key, value in changedictionary.items():\n",
    "    if key == months[0]:                                 # 3.d logically sets value of first month to 0 because theres no month to compare it to.\n",
    "        num = 0\n",
    "    else:\n",
    "        changetotal = changetotal + value               # 3.e Sum total change, to be used in finding average change.\n",
    "        \n",
    "        \n",
    "        \n",
    "                                                                   \n",
    "minprice = min(zip(changedictionary.values(), changedictionary.keys()))          # 4.a Pull minimum value of monthly changes, as well as month from the change dictionary\n",
    "maxprice = max(zip(changedictionary.values(), changedictionary.keys()))          # 4.b Pull maximum value of monthly changes, as well as month from the change dictionary\n",
    "\n",
    "minchange = (minprice[1] + \" $\" + str(int(minprice[0]))+\"\")                      # 4.c Display in month/$ change format. \n",
    "maxchange = (maxprice[1] + \" $\" + str(int(maxprice[0]))+\"\")                      # 4.d Display in month/$ change format.\n",
    "\n",
    "\n",
    "\n",
    "profit = \"($\" + str(int(profit))+\")\"                               # 5. Display Profit in $ format\n",
    "\n",
    "num_months = len(months)                                           # 6.a Count number of months in list \n",
    "averagechange = \"($\" + str(int(changetotal/(num_months - 1)))+\")\"    # 6.b Total change / number of months - 1 to discount first month with 0 change.  \n",
    "\n",
    "\n",
    "line = \"-------------------------------\"                            # 7.a Line for result formatting\n",
    "\n",
    "results = ( line + '\\n' + \n",
    "           \"Financial Analysis\" + '\\n' + \n",
    "            line + '\\n'                                                   # 7.b Format results as string with line breaks, and dotted lines.\n",
    "            \"Total Months: \"+ str(num_months) + '\\n'                               \n",
    "            \"Total: \"+ str(profit) +'\\n'                                                                    \n",
    "            \"Average Change: \"+ str(averagechange) + '\\n'                                  \n",
    "            \"Greatest Increase in Profits: \"+ str(maxchange) + '\\n'\n",
    "            \"Greatest Decrease in Profits: \"+ str(minchange) + '\\n' +\n",
    "            line + '\\n')\n",
    "\n",
    "\n",
    "f = open(\"Financial_Analysis.txt\", \"w\")                                 # 8. Create a .txt file\n",
    "\n",
    "f.write(results)                                                        # 9. Write results to file\n",
    "\n",
    "f.close()\n",
    "\n",
    "results"
   ]
  },
  {
   "cell_type": "code",
   "execution_count": null,
   "metadata": {},
   "outputs": [],
   "source": []
  },
  {
   "cell_type": "code",
   "execution_count": 158,
   "metadata": {},
   "outputs": [],
   "source": []
  },
  {
   "cell_type": "code",
   "execution_count": 159,
   "metadata": {},
   "outputs": [],
   "source": []
  },
  {
   "cell_type": "code",
   "execution_count": 160,
   "metadata": {},
   "outputs": [],
   "source": []
  },
  {
   "cell_type": "code",
   "execution_count": 23,
   "metadata": {},
   "outputs": [],
   "source": []
  },
  {
   "cell_type": "code",
   "execution_count": null,
   "metadata": {},
   "outputs": [],
   "source": []
  },
  {
   "cell_type": "code",
   "execution_count": null,
   "metadata": {},
   "outputs": [],
   "source": []
  },
  {
   "cell_type": "code",
   "execution_count": null,
   "metadata": {},
   "outputs": [],
   "source": []
  }
 ],
 "metadata": {
  "kernelspec": {
   "display_name": "Python 3",
   "language": "python",
   "name": "python3"
  },
  "language_info": {
   "codemirror_mode": {
    "name": "ipython",
    "version": 3
   },
   "file_extension": ".py",
   "mimetype": "text/x-python",
   "name": "python",
   "nbconvert_exporter": "python",
   "pygments_lexer": "ipython3",
   "version": "3.7.1"
  }
 },
 "nbformat": 4,
 "nbformat_minor": 2
}
